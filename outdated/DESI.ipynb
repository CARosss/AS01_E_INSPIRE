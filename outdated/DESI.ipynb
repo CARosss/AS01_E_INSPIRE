{
 "cells": [
  {
   "cell_type": "code",
   "execution_count": null,
   "id": "initial_id",
   "metadata": {
    "collapsed": true
   },
   "outputs": [],
   "source": [
    "from astropy.io import fits\n",
    "import pandas as pd\n",
    "import numpy as np\n",
    "\n",
    "# Open the file without loading all data into memory\n",
    "with fits.open('dr1_galaxy_stellarmass_lineinfo_v1.0.fits', memmap=True) as hdul:\n",
    "    data = hdul['EMLINES_MASS'].data\n",
    "    \n",
    "    # Expanded list of columns to keep\n",
    "    cols_to_keep = [\n",
    "        # Identifiers and basic info\n",
    "        'TARGETID', 'TARGET_RA', 'TARGET_DEC', 'HEALPIX', 'SURVEY', 'PROGRAM',\n",
    "        \n",
    "        # Redshift and spectroscopic quality\n",
    "        'Z', 'ZERR', 'OBJTYPE', 'COADD_NUMEXP', 'SNR_MED',\n",
    "        \n",
    "        # Galaxy shape and morphology\n",
    "        'SHAPE_R', 'SHAPE_R_IVAR',\n",
    "        \n",
    "        # CIGALE measurements\n",
    "        'MASS_CG', 'MASSERR_CG', 'Z_CG', 'ZERR_CG', 'AGE_CG', 'AGEERR_CG', \n",
    "        'TAU_CG', 'TAUERR_CG', 'SFR_CG', 'SFRERR_CG', 'AV_CG', 'AVERR_CG',\n",
    "        \n",
    "        # STARLIGHT measurements\n",
    "        'Z_SL', 'AGE_SL', 'AV_SL', 'MASSINI_SL', 'MASSCOR_SL', \n",
    "        'V0_SL', 'VD_SL', 'SNR_SL',\n",
    "    ]\n",
    "    \n",
    "    # Create a dictionary for pandas DataFrame\n",
    "    data_dict = {col: data[col] for col in cols_to_keep if col in data.columns}\n",
    "    \n",
    "    # Create DataFrame\n",
    "    df = pd.DataFrame(data_dict)\n",
    "    \n",
    "    # Calculate some common color columns\n",
    "    try:\n",
    "        df['g_mag'] = -2.5 * np.log10(df['FLUX_G']) + 22.5\n",
    "        df['r_mag'] = -2.5 * np.log10(df['FLUX_R']) + 22.5\n",
    "        df['z_mag'] = -2.5 * np.log10(df['FLUX_Z']) + 22.5\n",
    "        df['W1_mag'] = -2.5 * np.log10(df['FLUX_W1']) + 22.5\n",
    "        df['W2_mag'] = -2.5 * np.log10(df['FLUX_W2']) + 22.5\n",
    "        \n",
    "        # Some useful colors\n",
    "        df['g_r_color'] = df['g_mag'] - df['r_mag']\n",
    "        df['r_z_color'] = df['r_mag'] - df['z_mag']\n",
    "        df['W1_W2_color'] = df['W1_mag'] - df['W2_mag']\n",
    "    except:\n",
    "        print(\"Warning: Error calculating magnitude columns - check for zero or negative flux values\")\n",
    "    \n",
    "    df.to_csv('../data/desi_catalogue.csv', index=False)"
   ]
  }
 ],
 "metadata": {
  "kernelspec": {
   "display_name": "Python 3",
   "language": "python",
   "name": "python3"
  },
  "language_info": {
   "codemirror_mode": {
    "name": "ipython",
    "version": 2
   },
   "file_extension": ".py",
   "mimetype": "text/x-python",
   "name": "python",
   "nbconvert_exporter": "python",
   "pygments_lexer": "ipython2",
   "version": "2.7.6"
  }
 },
 "nbformat": 4,
 "nbformat_minor": 5
}
